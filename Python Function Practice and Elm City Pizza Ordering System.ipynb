{
 "cells": [
  {
   "cell_type": "markdown",
   "id": "2399aab0-399d-4516-b379-d1acbc5b5a03",
   "metadata": {},
   "source": [
    "# Some Practice with Functions"
   ]
  },
  {
   "cell_type": "markdown",
   "id": "4dd98f0c-26ce-4211-8f70-691573a61365",
   "metadata": {},
   "source": [
    "### Using print() rather than returning a value"
   ]
  },
  {
   "cell_type": "markdown",
   "id": "ba3b6ab3-c6e3-4db1-ae08-6a55fa24fad8",
   "metadata": {},
   "source": [
    "1. (10pts) Write a function that checks the potential risk of conflict between two countries based on their military spending and diplomatic relations. The function should print a warning if both countries have high military spending (greater than 100 billion dollars) and their diplomatic relations are poor. Otherwise, it should print that relations are stable.\n",
    "\n",
    "Requirements:\n",
    "\n",
    "The function should print (not return) the result.\n",
    "\n",
    "The inputs will be:\n",
    "\n",
    "Country 1 name (str)\n",
    "\n",
    "Country 2 name (str)\n",
    "\n",
    "Military spending of Country 1 (int, in billion dollars)\n",
    "\n",
    "Military spending of Country 2 (int, in billion dollars)\n",
    "\n",
    "Diplomatic relations (str), either \"good\", \"neutral\", or \"poor\"\n",
    "\n",
    "**Task**: Define a function print_conflict_warning(country1, country2, military_spending1, military_spending2, diplomatic_relations) that prints:\n",
    "\n",
    "\"Warning: High risk of conflict between <country1> and <country2>.\" if military spending is high for both and diplomatic relations are poor.\n",
    "\"The relations between <country1> and <country2> are stable.\" otherwise.\n"
   ]
  },
  {
   "cell_type": "code",
   "execution_count": 111,
   "id": "8e9976af-3cdf-4ae6-aa88-c3c27e89602b",
   "metadata": {},
   "outputs": [
    {
     "name": "stdin",
     "output_type": "stream",
     "text": [
      "Country name 1:  Nigeria\n",
      "Country name 2:  United States\n",
      "Military spending of Country 1 (in billion dollars):  123\n",
      "Military spending of Country 2 (in billion dollars):  2345\n",
      "What is the diplomatic relations? Please, select 'good', 'neutral', or 'poor':  POOR\n"
     ]
    },
    {
     "name": "stdout",
     "output_type": "stream",
     "text": [
      "Warning: High risk of conflict between Nigeria and United States.\n",
      "None\n"
     ]
    }
   ],
   "source": [
    "#Your code here with an example:\n",
    "def print_conflict_warning(country1, country2, military_spending1, military_spending2, diplomatic_relations):\n",
    "    \"\"\"This is a function that checks the potential risk of conflict between two countries based on their \n",
    "    military spending and diplomatic relations.\n",
    "    \n",
    "    If both countries have military spending greater than 100 billion dollars \n",
    "    and diplomatic relations are poor, it prints a warning about the high risk \n",
    "    of conflict. Otherwise, it prints that the relations are stable.\"\"\"\n",
    "\n",
    "    #The code below checks whether both countries have military spending greater than 100 billion and whether their diplomatic relations are poor\n",
    "    if military_spending1 > 100 and military_spending2 > 100 and diplomatic_relations.lower() == \"poor\":\n",
    "        print(f\"Warning: High risk of conflict between {country1} and {country2}.\")\n",
    "    else:\n",
    "        print(f\"The diplomatic relations between {country1} and {country2} are stable.\")\n",
    "\n",
    "# Here, I collected input for country names, military spending, and diplomatic relations\n",
    "country1 = str(input(\"Country name 1: \"))\n",
    "country2 = str(input(\"Country name 2: \"))\n",
    "military_spending1 = int(input(\"Military spending of Country 1 (in billion dollars): \"))\n",
    "military_spending2 = int(input(\"Military spending of Country 2 (in billion dollars): \"))\n",
    "diplomatic_relations = str(input(\"What is the diplomatic relations? Please, select 'good', 'neutral', or 'poor': \"))\n",
    "\n",
    "#calling the function to run the code\n",
    "conflict_warning = print_conflict_warning (country1, country2, military_spending2, military_spending2, diplomatic_relations)\n",
    "print(conflict_warning)"
   ]
  },
  {
   "cell_type": "code",
   "execution_count": 117,
   "id": "9ce217b6-be92-4f3f-a68b-17a02ff4cdad",
   "metadata": {},
   "outputs": [
    {
     "name": "stdin",
     "output_type": "stream",
     "text": [
      "Country name 1:  Nigeria\n",
      "Country name 2:  United States\n",
      "Military spending of Country 1 (in billion dollars):  12\n",
      "Military spending of Country 2 (in billion dollars):  wse\n"
     ]
    },
    {
     "name": "stdout",
     "output_type": "stream",
     "text": [
      "Invalid input. Please enter a number.\n"
     ]
    },
    {
     "name": "stdin",
     "output_type": "stream",
     "text": [
      "Military spending of Country 2 (in billion dollars):  rfve\n"
     ]
    },
    {
     "name": "stdout",
     "output_type": "stream",
     "text": [
      "Invalid input. Please enter a number.\n"
     ]
    },
    {
     "name": "stdin",
     "output_type": "stream",
     "text": [
      "Military spending of Country 2 (in billion dollars):  qw2\n"
     ]
    },
    {
     "name": "stdout",
     "output_type": "stream",
     "text": [
      "Invalid input. Please enter a number.\n"
     ]
    },
    {
     "name": "stdin",
     "output_type": "stream",
     "text": [
      "Military spending of Country 2 (in billion dollars):  2344\n",
      "What is the diplomatic relations? Please, select 'good', 'neutral', or 'poor':  poor\n"
     ]
    },
    {
     "name": "stdout",
     "output_type": "stream",
     "text": [
      "Warning: High risk of conflict between Nigeria and United States.\n",
      "None\n"
     ]
    }
   ],
   "source": [
    "#I noticed a bug in the code above. If someone enters a string instead of an integer where numbers are requested, the code will break.\n",
    "#I resolved to use a try-and-expect code I learned from ChatGPT to fix this bug.\n",
    "\n",
    "def get_integer_input(prompt):\n",
    "    \"\"\"\n",
    "    Function to repeatedly prompt the user for integer input until a valid integer is provided.\n",
    "    \"\"\"\n",
    "    while True:\n",
    "        try:\n",
    "            # Try to convert the input to an integer\n",
    "            value = int(input(prompt))\n",
    "            return value\n",
    "        except ValueError:\n",
    "            # Catch the ValueError if the input is not an integer\n",
    "            print(\"Invalid input. Please enter a number.\")\n",
    "\n",
    "#the previous code, while incorporating the get_integer_input function\n",
    "\n",
    "def print_conflict_warning(country1, country2, military_spending1, military_spending2, diplomatic_relations):\n",
    "    \"\"\"This is a function that checks the potential risk of conflict between two countries based on their \n",
    "    military spending and diplomatic relations.\n",
    "    \n",
    "    If both countries have military spending greater than 100 billion dollars \n",
    "    and diplomatic relations are poor, it prints a warning about the high risk \n",
    "    of conflict. Otherwise, it prints that the relations are stable.\"\"\"\n",
    "\n",
    "    #The code below checks whether both countries have military spending greater than 100 billion and whether their diplomatic relations are poor\n",
    "    if military_spending1 > 100 and military_spending2 > 100 and diplomatic_relations.lower() == \"poor\":\n",
    "        print(f\"Warning: High risk of conflict between {country1} and {country2}.\")\n",
    "    else:\n",
    "        print(f\"The diplomatic relations between {country1} and {country2} are stable.\")\n",
    "\n",
    "# Here, I collected input for country names, military spending, and diplomatic relations\n",
    "country1 = str(input(\"Country name 1: \"))\n",
    "country2 = str(input(\"Country name 2: \"))\n",
    "military_spending1 = get_integer_input(\"Military spending of Country 1 (in billion dollars): \")\n",
    "military_spending2 = get_integer_input(\"Military spending of Country 2 (in billion dollars): \")\n",
    "diplomatic_relations = str(input(\"What is the diplomatic relations? Please, select 'good', 'neutral', or 'poor': \"))\n",
    "\n",
    "#calling the function to run the code\n",
    "conflict_warning = print_conflict_warning (country1, country2, military_spending2, military_spending2, diplomatic_relations)\n",
    "print(conflict_warning)"
   ]
  },
  {
   "cell_type": "code",
   "execution_count": 115,
   "id": "735aee96-39e4-43d1-961c-3fea02d5b3e2",
   "metadata": {},
   "outputs": [
    {
     "name": "stdin",
     "output_type": "stream",
     "text": [
      "Country name 1:  Nigeria\n",
      "Country name 2:  United States\n",
      "Military spending of Country 1 (in billion dollars):  1233\n",
      "Military spending of Country 2 (in billion dollars):  23\n",
      "What is the diplomatic relations? Please, select 'good', 'neutral', or 'poor':  dft\n"
     ]
    },
    {
     "name": "stdout",
     "output_type": "stream",
     "text": [
      "Invalid input. Please select 'good', 'neutral', or 'poor'.\n"
     ]
    },
    {
     "name": "stdin",
     "output_type": "stream",
     "text": [
      "What is the diplomatic relations? Please, select 'good', 'neutral', or 'poor':  ijt\n"
     ]
    },
    {
     "name": "stdout",
     "output_type": "stream",
     "text": [
      "Invalid input. Please select 'good', 'neutral', or 'poor'.\n"
     ]
    },
    {
     "name": "stdin",
     "output_type": "stream",
     "text": [
      "What is the diplomatic relations? Please, select 'good', 'neutral', or 'poor':  Poor\n"
     ]
    },
    {
     "name": "stdout",
     "output_type": "stream",
     "text": [
      "The diplomatic relations between Nigeria and United States are stable.\n",
      "None\n"
     ]
    }
   ],
   "source": [
    "#I also added a code that will ensure the users pick an option from \"Good, Neutral and Poor\"\n",
    "\n",
    "def get_integer_input(prompt):\n",
    "    \"\"\"\n",
    "    This Function will repeatedly prompt the user for integer input until a valid integer is provided.\n",
    "    \"\"\"\n",
    "    while True:\n",
    "        try:\n",
    "            # Try to convert the input to an integer\n",
    "            value = int(input(prompt))\n",
    "            return value\n",
    "        except ValueError:\n",
    "            # Catch the ValueError if the input is not an integer\n",
    "            print(\"Invalid input. Please enter a number.\")\n",
    "\n",
    "def get_valid_diplomatic_relations(prompt):\n",
    "    \"\"\"\n",
    "    This function will repeatedly prompt the user for valid diplomatic relations input \n",
    "    until they enter 'good', 'neutral', or 'poor'.\n",
    "    \"\"\"\n",
    "    valid_options = [\"good\", \"neutral\", \"poor\"]\n",
    "    \n",
    "    while True:\n",
    "        # Get input from the user and convert it to lowercase for comparison\n",
    "        relation = input(prompt).lower()\n",
    "        \n",
    "        if relation in valid_options:\n",
    "            # If the input is valid, return the value\n",
    "            return relation\n",
    "        else:\n",
    "            # Print an error message and re-prompt the user for input\n",
    "            print(\"Invalid input. Please select 'good', 'neutral', or 'poor'.\")\n",
    "            \n",
    "#the previous code, while incorporating the get_integer_input function\n",
    "def print_conflict_warning(country1, country2, military_spending1, military_spending2, diplomatic_relations):\n",
    "    \"\"\"This is a function that checks the potential risk of conflict between two countries based on their \n",
    "    military spending and diplomatic relations.\n",
    "    \n",
    "    If both countries have military spending greater than 100 billion dollars \n",
    "    and diplomatic relations are poor, it prints a warning about the high risk \n",
    "    of conflict. Otherwise, it prints that the relations are stable.\"\"\"\n",
    "\n",
    "    #The code below checks whether both countries have military spending greater than 100 billion and whether their diplomatic relations are poor\n",
    "    if military_spending1 > 100 and military_spending2 > 100 and diplomatic_relations.lower() == \"poor\":\n",
    "        print(f\"Warning: High risk of conflict between {country1} and {country2}.\")\n",
    "    else:\n",
    "        print(f\"The diplomatic relations between {country1} and {country2} are stable.\")\n",
    "\n",
    "# Here, I collected input for country names, military spending, and diplomatic relations\n",
    "country1 = str(input(\"Country name 1: \"))\n",
    "country2 = str(input(\"Country name 2: \"))\n",
    "military_spending1 = get_integer_input(\"Military spending of Country 1 (in billion dollars): \")\n",
    "military_spending2 = get_integer_input(\"Military spending of Country 2 (in billion dollars): \")\n",
    "diplomatic_relations = get_valid_diplomatic_relations(\"What is the diplomatic relations? Please, select 'good', 'neutral', or 'poor': \")\n",
    "\n",
    "#calling the function to run the code\n",
    "conflict_warning = print_conflict_warning (country1, country2, military_spending2, military_spending2, diplomatic_relations)\n",
    "print(conflict_warning)"
   ]
  },
  {
   "cell_type": "markdown",
   "id": "f4693f83-53db-479c-b3e3-1b84bf6d3f69",
   "metadata": {},
   "source": [
    "1. (10pts) Write a function that checks the potential risk of conflict between two countries based on their military spending and diplomatic relations. The function should print a warning if both countries have high military spending (greater than 100 billion dollars) and their diplomatic relations are poor. Otherwise, it should print that relations are stable.\n",
    "\n",
    "Requirements:\n",
    "\n",
    "The function should print (not return) the result.\n",
    "\n",
    "The inputs will be:\n",
    "\n",
    "Country 1 name (str)\n",
    "\n",
    "Country 2 name (str)\n",
    "\n",
    "Military spending of Country 1 (int, in billion dollars)\n",
    "\n",
    "Military spending of Country 2 (int, in billion dollars)\n",
    "\n",
    "Diplomatic relations (str), either \"good\", \"neutral\", or \"poor\"\n",
    "\n",
    "**Task**: Define a function print_conflict_warning(country1, country2, military_spending1, military_spending2, diplomatic_relations) that prints:\n",
    "\n",
    "\"Warning: High risk of conflict between <country1> and <country2>.\" if military spending is high for both and diplomatic relations are poor.\n",
    "\"The relations between <country1> and <country2> are stable.\" otherwise.\n"
   ]
  },
  {
   "cell_type": "markdown",
   "id": "86a97f80-2779-4c9e-bf77-ebe768ae8c32",
   "metadata": {},
   "source": [
    "## For the rest of these, you will return a value, rather than print()"
   ]
  },
  {
   "cell_type": "markdown",
   "id": "517bdb90-fd7d-4302-a6d6-80c66b0748d0",
   "metadata": {},
   "source": [
    "2.(5pts)Calculate Trade Balance\n",
    "A country's trade balance is the difference between its exports and imports. Write a function that calculates and prints whether the country has a trade surplus, deficit, or balanced trade. Use the following data:\n",
    "\n",
    "Exports: 500 million dollars\n",
    "Imports: 600 million dollars\n",
    "\n",
    "Task: Define a function trade_balance(exports, imports) and use it to determine the trade balance."
   ]
  },
  {
   "cell_type": "code",
   "execution_count": 11,
   "id": "e24e260c-3614-4f8f-9cf7-c4eb3164ddfa",
   "metadata": {},
   "outputs": [
    {
     "name": "stdout",
     "output_type": "stream",
     "text": [
      "The country has a trade deficit\n"
     ]
    }
   ],
   "source": [
    "#Your code here:\n",
    "def trade_balance(exports, imports):\n",
    "    \"\"\"This function calculates and prints whether the country has a trade surplus, deficit, or balanced trade\"\"\"\n",
    "    if exports > imports: #returns surplus if export is greater than import\n",
    "        return \"The country has a trade surplus\"\n",
    "    elif exports < imports: #returns deficit if export is less than import\n",
    "        return \"The country has a trade deficit\"\n",
    "    else: #returns balanced trade if export is equal to import\n",
    "        return \"The country has a balanced trade\" \n",
    "\n",
    "exports = 500\n",
    "imports = 600\n",
    "\n",
    "trade_balance(exports, imports)"
   ]
  },
  {
   "cell_type": "markdown",
   "id": "b8e04211-db56-4ae8-bdad-17cd74f99185",
   "metadata": {},
   "source": [
    "3.(5pts) Compare Country Populations\n",
    "\n",
    "Write a function that compares the populations of two countries and prints which country has a larger population, or if they are equal. Use the following population data:\n",
    "\n",
    "India: 1.4 billion\n",
    "USA: 331 million\n",
    "\n",
    "Task: Define a function compare_populations(country1, pop1, country2, pop2) and use it to compare India and the USA."
   ]
  },
  {
   "cell_type": "code",
   "execution_count": 13,
   "id": "235fd896-3a8f-4607-a8c0-c952ba30ced2",
   "metadata": {},
   "outputs": [
    {
     "name": "stdout",
     "output_type": "stream",
     "text": [
      "India has a larger population than USA.\n"
     ]
    }
   ],
   "source": [
    "#Your code here: \n",
    "def compare_populations(country1, pop1, country2, pop2):\n",
    "    \"\"\"This function compares the populations of two countries and prints which country has a larger population, or if they are equal\"\"\"\n",
    "    if pop1 > pop2: #If the population of country 1 is larger\n",
    "        return f\"{country1} has a larger population than {country2}.\"\n",
    "    elif pop1 < pop2:  # if the population of country2 is larger\n",
    "        return f\"{country2} has a larger population than {country1}.\"\n",
    "    else: #if both countries' populations are equal\n",
    "        return f\"{country1} and {country2} have equal populations.\"\n",
    "\n",
    "pop1 = 1.4 # in billions\n",
    "pop2 = 0.333 # converted to billions for easy calculations \n",
    "country1 = \"India\"\n",
    "country2 = \"USA\"\n",
    "\n",
    "\n",
    "#To compare, call the function\n",
    "compare_populations(country1, pop1, country2, pop2)"
   ]
  },
  {
   "cell_type": "markdown",
   "id": "6c0eb686-eda4-4811-9c2c-3c9edbbae505",
   "metadata": {},
   "source": [
    "4.(5pts) Count International Organization Memberships\n",
    "Write a function that counts how many international organizations a country is a member of. Use the following data for two countries:\n",
    "m\n",
    "USA memberships: [\"UN\", \"NATO\", \"WTO\"]\n",
    "France memberships: [\"UN\", \"EU\", \"WTO\"]\n",
    "\n",
    "Task: Define a function count_memberships(country, organizations) that returns the number of memberships for a country."
   ]
  },
  {
   "cell_type": "code",
   "execution_count": 73,
   "id": "7ef9c244-d24f-42ca-96c2-e067c557222d",
   "metadata": {},
   "outputs": [
    {
     "data": {
      "text/plain": [
       "'USA is a member of 3 organizations'"
      ]
     },
     "execution_count": 73,
     "metadata": {},
     "output_type": "execute_result"
    }
   ],
   "source": [
    "#Your code here:\n",
    "def count_memberships(country, organizations):\n",
    "    \"\"\"\n",
    "    This function takes a country and its list of organizations, \n",
    "    and returns the number of memberships the country has.\n",
    "    \"\"\"\n",
    "    \n",
    "    return f\"{country} is a member of {len(organizations)} organizations\"  # Return the length of the organization's list (i.e how many countries in the each list)\n",
    "    \n",
    "    \n",
    "usa_memberships = [\"UN\", \"NATO\", \"WTO\"]\n",
    "france_memberships = [\"UN\", \"EU\", \"WTO\"]\n",
    "\n",
    "count_memberships('USA', usa_memberships)\n",
    "#count_memberships('France', france_memberships)\n",
    "\n",
    "\n",
    "# Call the function and print the results\n",
    "#print(f\"USA is a member of {count_memberships('USA', usa_memberships)} international organizations.\") #Here, the arguments are directly replaced\n",
    "#print(f\"France is a member of {count_memberships('France', france_memberships)} international organizations.\")\n"
   ]
  },
  {
   "cell_type": "code",
   "execution_count": 71,
   "id": "72203f99-0c18-4136-87ac-7d68ecb044df",
   "metadata": {},
   "outputs": [
    {
     "data": {
      "text/plain": [
       "'France is a member of 3 organizations'"
      ]
     },
     "execution_count": 71,
     "metadata": {},
     "output_type": "execute_result"
    }
   ],
   "source": [
    "count_memberships('France', france_memberships)"
   ]
  },
  {
   "cell_type": "markdown",
   "id": "9730da75-756b-4b0f-97b3-49db7b17055c",
   "metadata": {},
   "source": [
    "5.(5pts) Diplomatic Relations\n",
    "Diplomatic relations between two countries can be predicted based on trade volume and the number of diplomatic visits. Write a function that takes trade volume (in billion dollars) and the number of diplomatic visits and prints a prediction. Use the following rule:\n",
    "\n",
    "If trade volume > 5000 and visits > 10, predict strong relations.\n",
    "Otherwise, predict moderate or weak relations.\n",
    "\n",
    "Task: Define a function predict_relations(trade_volume, diplomatic_visits) and use it to make a prediction for trade volume of 6000 billion dollars and 12 visits."
   ]
  },
  {
   "cell_type": "code",
   "execution_count": 75,
   "id": "de1ef136-69e5-45aa-b0fc-868c786c1d86",
   "metadata": {},
   "outputs": [
    {
     "data": {
      "text/plain": [
       "'Strong relations'"
      ]
     },
     "execution_count": 75,
     "metadata": {},
     "output_type": "execute_result"
    }
   ],
   "source": [
    "#Your code here:\n",
    "def predict_relations(trade_volume, diplomatic_visits):\n",
    "    \"\"\"This function takes trade volume (in billion dollars) and the number of diplomatic visits and prints a prediction\"\"\"\n",
    "    if trade_volume > 5000 and diplomatic_visits > 10:\n",
    "        return \"Strong relations\"\n",
    "    else:\n",
    "        return \"Moderate or Weak relations\"\n",
    "\n",
    "#assigning values to the variables\n",
    "trade_volume = 6000\n",
    "diplomatic_visits = 12\n",
    "\n",
    "#calling the functions, assign to a variable then print\n",
    "predict_relations(trade_volume, diplomatic_visits)"
   ]
  },
  {
   "cell_type": "markdown",
   "id": "6f7dbe0a-5df6-43e4-bf5d-a2572282462e",
   "metadata": {},
   "source": [
    "6.(5pts)Summarize Human Development Index (HDI)\n",
    "Write a function that categorizes a country’s Human Development Index (HDI) score into \"very high\", \"high\", \"medium\", or \"low\" based on the following ranges:\n",
    "\n",
    "Very high: HDI ≥ 0.8\n",
    "High: 0.7 ≤ HDI < 0.8\n",
    "Medium: 0.55 ≤ HDI < 0.7\n",
    "Low: HDI < 0.55\n",
    "Use the following data:\n",
    "\n",
    "Norway HDI: 0.953\n",
    "Task: Define a function hdi_summary(country, hdi) that prints the category for a given country and HDI score.\n"
   ]
  },
  {
   "cell_type": "code",
   "execution_count": 89,
   "id": "5ce12094-c467-4233-8a20-9692f68c74c3",
   "metadata": {},
   "outputs": [
    {
     "data": {
      "text/plain": [
       "'HDI is Very High!'"
      ]
     },
     "execution_count": 89,
     "metadata": {},
     "output_type": "execute_result"
    }
   ],
   "source": [
    "#Your code here:\n",
    "def hdi_summary(country, hdi):\n",
    "    \"\"\"\n",
    "    This function takes a country and its HDI score, \n",
    "    and prints the HDI category based on the provided ranges.\n",
    "    \"\"\"\n",
    "    #using if statements for the conditions\n",
    "    if hdi >= 0.8: \n",
    "        return \"HDI is Very High!\"\n",
    "    elif 0.7 <= hdi < 0.8:\n",
    "        return \"HDI is High!\"\n",
    "    elif 0.55 <= hdi < 0.7:\n",
    "        return \"HDI is Medium!\"\n",
    "    elif hdi < 0.55:\n",
    "        return \"HDI is Low!\"\n",
    "    else:\n",
    "        return \"Your input is out of range and is invalid\"\n",
    "\n",
    "#assigning values to the variables (country and hdi)\n",
    "country = \"Norway\"\n",
    "hdi = 0.953\n",
    "\n",
    "#calling and printing the function\n",
    "hdi_summary(country, hdi)"
   ]
  },
  {
   "cell_type": "markdown",
   "id": "d26d6e73-c330-4953-97b5-f9d2f0ab358a",
   "metadata": {},
   "source": [
    "7.(5pts) Find Largest Economy\n",
    "Given the GDPs of three countries, write a function that determines which country has the largest economy. Use the following GDP data (in billion dollars):\n",
    "\n",
    "USA: 21,000\n",
    "China: 14,000\n",
    "\n",
    "Germany: 4,200\n",
    "Task: Define a function largest_economy(gdp_data) that takes a dictionary with country names as keys and GDP as values, then prints the largest economy.\n"
   ]
  },
  {
   "cell_type": "code",
   "execution_count": 91,
   "id": "9977c471-f382-419d-a0d8-99e1d99af08d",
   "metadata": {},
   "outputs": [
    {
     "data": {
      "text/plain": [
       "'The largest economy is USA with a GDP of 21000 billion dollars.'"
      ]
     },
     "execution_count": 91,
     "metadata": {},
     "output_type": "execute_result"
    }
   ],
   "source": [
    "#Your code here:\n",
    "def largest_economy(gdp_data):\n",
    "    \"\"\"This function takes a dictionary with country names as keys and GDP as values, \n",
    "    and prints the country with the largest economy\"\"\"\n",
    "\n",
    "    #finding the country with the highest GDP value using the max function and the dictionary key variable\n",
    "    largest_country = max(gdp_data, key=gdp_data.get)\n",
    "    return f\"The largest economy is {largest_country} with a GDP of {gdp_data[largest_country]} billion dollars.\"\n",
    "\n",
    "#creating the dictionariers\n",
    "gdp_data = {\n",
    "    \"USA\": 21000,\n",
    "    \"China\": 14000,\n",
    "    \"Germany\": 4200\n",
    "}\n",
    "\n",
    "largest_economy(gdp_data)"
   ]
  },
  {
   "cell_type": "markdown",
   "id": "131c325c-b5c2-49c8-bc90-afdd8ec49b80",
   "metadata": {},
   "source": [
    "8.(5pts) Sanction Impact on Economy\n",
    "A country’s economy shrinks after sanctions are imposed. Write a function to calculate the percentage reduction in GDP. Use the following data:\n",
    "\n",
    "Original GDP: 1000 billion dollars\n",
    "GDP after sanctions: 850 billion dollars\n",
    "\n",
    "Task: Define a function sanction_impact(original_gdp, post_sanction_gdp) and use it to calculate the impact of sanctions.\n"
   ]
  },
  {
   "cell_type": "code",
   "execution_count": 77,
   "id": "d8c67b65-5adf-4b3f-af03-dd0e89d95507",
   "metadata": {},
   "outputs": [
    {
     "data": {
      "text/plain": [
       "'The GDP was reduced by 15.00% due to sanctions.'"
      ]
     },
     "execution_count": 77,
     "metadata": {},
     "output_type": "execute_result"
    }
   ],
   "source": [
    "#Your code here:\n",
    "def sanction_impact(original_gdp, post_sanction_gdp):\n",
    "    \"\"\"\n",
    "    This function calculates the percentage reduction in GDP due to sanctions.\n",
    "    It takes the original GDP and the GDP after sanctions as input\n",
    "    and prints the percentage reduction.\n",
    "    \"\"\"\n",
    "    decrease =  original_gdp - post_sanction_gdp  #First I will calculate the reduction in GDP\n",
    "    percent_decrease = (decrease/original_gdp)*100 #calculating the percent reduction\n",
    "    return f\"The GDP was reduced by {percent_decrease:.2f}% due to sanctions.\" #returning the value\n",
    "    \n",
    "original_gdp = 1000  # Original GDP in billion dollars\n",
    "post_sanction_gdp = 850  # GDP after sanctions in billion dollars\n",
    "\n",
    "#calling and printing the functions\n",
    "sanction_impact(original_gdp, post_sanction_gdp)"
   ]
  },
  {
   "cell_type": "markdown",
   "id": "b8b02e02-5965-4332-8fa2-3961793e7a7e",
   "metadata": {},
   "source": [
    "### Passing a function to another function. We can pass the return value of a function to another function. Check out the sample below"
   ]
  },
  {
   "cell_type": "markdown",
   "id": "9aa91de0-8cf6-4084-937d-d0b0200b065b",
   "metadata": {},
   "source": [
    "Calculate Diplomatic Influence: return a value, and print from a function \n",
    "\n",
    "A country’s diplomatic influence is determined by its economic power and military strength. Write two functions:\n",
    "\n",
    "calculate_influence(economy_size, military_spending): This function calculates a country’s influence score by adding its economy size (GDP in billions) and military power (in billions).\n",
    "\n",
    "compare_influence(influence1, influence2): This function compares the influence of two countries and prints which country has more influence or if they are equal.\n",
    "\n",
    "You will pass the influence score from the first function to the second function for comparison.\n",
    "\n",
    "Define calculate_influence(economy_size, military_spending) that returns the influence score (sum of economy size and military power).\n",
    "Define compare_influence(influence1, influence2) that compares two countries' influence and prints the result.\n"
   ]
  },
  {
   "cell_type": "code",
   "execution_count": 93,
   "id": "d46522b0-14b5-4d59-9fb3-4dc0ae4c5831",
   "metadata": {},
   "outputs": [
    {
     "name": "stdout",
     "output_type": "stream",
     "text": [
      "Country 1 has more diplomatic influence.\n"
     ]
    }
   ],
   "source": [
    "#Sample code here:\n",
    "#US: 916 billion on military, with a total economy size of 28.78 trillion\n",
    "#Germany: 66.8 billion on military, economy size of 4.08 trillion\n",
    "\n",
    "def calculate_influence(economy_size, military_power):\n",
    "    \"\"\"\n",
    "    Calculates the diplomatic influence of a country based on its economy size and military power.\n",
    "\n",
    "    Parameters:\n",
    "    economy_size (float): The size of the economy in billion dollars.\n",
    "    military_power (float): The military power in billion dollars.\n",
    "\n",
    "    Returns:\n",
    "    float: The total influence score, which is the sum of economy size and military power.\n",
    "    \"\"\"\n",
    "    return economy_size + military_power\n",
    "\n",
    "def compare_influence(economy_size1, military_power1, economy_size2, military_power2):\n",
    "    \"\"\"\n",
    "    Compares the diplomatic influence of two countries based on their economy size and military power.\n",
    "\n",
    "    Parameters:\n",
    "    economy_size1 (float): The size of the first country's economy in billion dollars.\n",
    "    military_power1 (float): The military power of the first country in billion dollars.\n",
    "    economy_size2 (float): The size of the second country's economy in billion dollars.\n",
    "    military_power2 (float): The military power of the second country in billion dollars.\n",
    "\n",
    "    Prints:\n",
    "    str: A message indicating which country has more diplomatic influence, or if both are equal.\n",
    "    \"\"\"\n",
    "    #here we are calling the function within the new function and saving the output to variables\n",
    "    influence1 = calculate_influence(economy_size1, military_power1)\n",
    "    influence2 = calculate_influence(economy_size2, military_power2)\n",
    "    \n",
    "    if influence1 > influence2:\n",
    "        print(\"Country 1 has more diplomatic influence.\")\n",
    "    elif influence2 > influence1:\n",
    "        print(\"Country 2 has more diplomatic influence.\")\n",
    "    else:\n",
    "        print(\"Both countries have equal diplomatic influence.\")\n",
    "\n",
    "# Example usage\n",
    "compare_influence(916, 28.78, 66.8, 4.08)\n"
   ]
  },
  {
   "cell_type": "markdown",
   "id": "85e59e80-c705-4e59-9bbc-8cbccd78a4f9",
   "metadata": {},
   "source": [
    "## Some for loops and comprehensions"
   ]
  },
  {
   "cell_type": "markdown",
   "id": "88034e0d-bd12-4bf7-adcd-51913d8e750b",
   "metadata": {},
   "source": [
    "Here is a list of tuples with a country, and it's annual growth in GDP:"
   ]
  },
  {
   "cell_type": "code",
   "execution_count": 95,
   "id": "fc412ac7-fc4b-4ab5-8428-eb95123aac49",
   "metadata": {},
   "outputs": [],
   "source": [
    "country_growth_data_list = [(\"CountryA\", 3.2), (\"CountryB\", 6.5), (\"CountryC\", 2.8), (\"CountryD\", 5.4)]\n"
   ]
  },
  {
   "cell_type": "code",
   "execution_count": 97,
   "id": "232f1d28-b587-4a6e-925b-365ef5adaeb4",
   "metadata": {},
   "outputs": [
    {
     "name": "stdout",
     "output_type": "stream",
     "text": [
      "[('CountryA', 'Moderate'), ('CountryB', 'High'), ('CountryC', 'Moderate'), ('CountryD', 'High')]\n"
     ]
    }
   ],
   "source": [
    "# Initialize an empty list to store the results\n",
    "growth_category_list = []\n",
    "\n",
    "# Iterate over each item in the country_growth_data_list\n",
    "for country, growth_rate in country_growth_data_list:\n",
    "    if growth_rate > 5:\n",
    "        growth_category_list.append((country, \"High\"))\n",
    "    else:\n",
    "        growth_category_list.append((country, \"Moderate\"))\n",
    "\n",
    "# Print the result\n",
    "print(growth_category_list)"
   ]
  },
  {
   "cell_type": "markdown",
   "id": "183c0605-cbff-4eca-a5ca-7b981be55ad5",
   "metadata": {},
   "source": [
    "\n",
    "1. Create An empty list, growth_category_list, is initialized to store the results.\n",
    "2. For each country in the list, a tuple of the country name and its corresponding category is appended to growth_category_list.\n",
    "3. The result is a list of tuples where each tuple contains the country name and its growth category."
   ]
  },
  {
   "cell_type": "markdown",
   "id": "8f645605-5e10-4abf-93f6-b1aa83b55a8a",
   "metadata": {},
   "source": [
    "9.(5pts) Rewrite the previous as a list comprehension and print the results"
   ]
  },
  {
   "cell_type": "code",
   "execution_count": 99,
   "id": "d7899ebf-2149-4c60-b368-1e2344381cd6",
   "metadata": {},
   "outputs": [
    {
     "name": "stdout",
     "output_type": "stream",
     "text": [
      "[('CountryA', 'Moderate'), ('CountryB', 'High'), ('CountryC', 'Moderate'), ('CountryD', 'High')]\n"
     ]
    }
   ],
   "source": [
    "#Your code here:\n",
    "country_growth_data_list = [(\"CountryA\", 3.2), (\"CountryB\", 6.5), (\"CountryC\", 2.8), (\"CountryD\", 5.4)]\n",
    "\n",
    "#rewriting to list comprehension\n",
    "growth_category_list = [(country, \"High\") if growth_rate > 5 else (country, \"Moderate\") for country, growth_rate in country_growth_data_list]\n",
    "print(growth_category_list)\n"
   ]
  },
  {
   "cell_type": "markdown",
   "id": "906ade3b-1cf8-48b9-a3a5-29a7c2770f4c",
   "metadata": {},
   "source": [
    "10.(5pts) Here is the same data as a dictionary"
   ]
  },
  {
   "cell_type": "code",
   "execution_count": 35,
   "id": "ec82039d-9b55-4b58-83a2-79ab6ceb2f97",
   "metadata": {},
   "outputs": [],
   "source": [
    "country_growth_data = {\"CountryA\": 3.2, \"CountryB\": 6.5, \"CountryC\": 2.8, \"CountryD\": 5.4}"
   ]
  },
  {
   "cell_type": "markdown",
   "id": "252700b2-cba9-49ee-a42e-20fec70d1585",
   "metadata": {},
   "source": [
    "11.(5pts) Write a for loop that iterates through the dictionary and stores the results in a growth_category dictionary with key :value pairs"
   ]
  },
  {
   "cell_type": "code",
   "execution_count": 101,
   "id": "ca2d3ad2-4d00-4965-b543-870261622f53",
   "metadata": {},
   "outputs": [
    {
     "name": "stdout",
     "output_type": "stream",
     "text": [
      "{'CountryA': 'Moderate', 'CountryB': 'High', 'CountryC': 'Moderate', 'CountryD': 'High'}\n"
     ]
    }
   ],
   "source": [
    "#Your code here:\n",
    "country_growth_data = {\"CountryA\": 3.2, \"CountryB\": 6.5, \"CountryC\": 2.8, \"CountryD\": 5.4}\n",
    "\n",
    "growth_category_dictionary = {}\n",
    "for country, growth_rate in country_growth_data.items(): # I can only use .items() to get key-value pairs, otherwise it won't work\n",
    "    if growth_rate > 5:\n",
    "        growth_category_dictionary[country] = \"High\" #this will retain the original key (country), and change te value (growth_rate) to either high or moderate as seen below\n",
    "    else:\n",
    "        growth_category_dictionary[country] = \"Moderate\"\n",
    "\n",
    "#printing the new dictionary\n",
    "print(growth_category_dictionary)"
   ]
  },
  {
   "cell_type": "markdown",
   "id": "c768ea1f-47f8-47bc-b383-0e383a500377",
   "metadata": {},
   "source": [
    "12. (5pts)Now try it as a dictionary comprehnsion! \n"
   ]
  },
  {
   "cell_type": "code",
   "execution_count": 103,
   "id": "94b224cf-d859-4fea-9926-2a24a451ee20",
   "metadata": {},
   "outputs": [
    {
     "name": "stdout",
     "output_type": "stream",
     "text": [
      "{'CountryA': 'Moderate', 'CountryB': 'High', 'CountryC': 'Moderate', 'CountryD': 'High'}\n"
     ]
    }
   ],
   "source": [
    "#Your code here:\n",
    "#rewriting as a list comprehension\n",
    "country_growth_data = {\"CountryA\": 3.2, \"CountryB\": 6.5, \"CountryC\": 2.8, \"CountryD\": 5.4}\n",
    "#I will use the use the key: value format inside the comprehension to properly assign values to keys\n",
    "growth_category_dictionary = { country: \"High\" if growth_rate > 5 else \"Moderate\" for country, growth_rate in country_growth_data.items()}\n",
    "print(growth_category_dictionary)"
   ]
  },
  {
   "cell_type": "markdown",
   "id": "fa0b626d-9dab-4477-9f0d-e6f294a96994",
   "metadata": {},
   "source": [
    "13.(5pts) How about a set comprehension for Alex! "
   ]
  },
  {
   "cell_type": "code",
   "execution_count": 105,
   "id": "1fd14eb7-b58d-4ac4-8521-a09549d57cb9",
   "metadata": {},
   "outputs": [
    {
     "name": "stdout",
     "output_type": "stream",
     "text": [
      "{'Germany', 'Brazil'}\n"
     ]
    }
   ],
   "source": [
    "\n",
    "# Define a set of countries\n",
    "countries_set = {\"USA\", \"India\", \"Germany\", \"Brazil\", \"China\"}\n",
    "\n",
    "# Initialize an empty set to store countries with names longer than 5 characters\n",
    "long_name_countries = set()\n",
    "\n",
    "# For loop to iterate over the set and add countries with names longer than 5 characters\n",
    "for country in countries_set:\n",
    "    if len(country) > 5:\n",
    "        long_name_countries.add(country)\n",
    "\n",
    "# Print the result\n",
    "print(long_name_countries)\n"
   ]
  },
  {
   "cell_type": "code",
   "execution_count": 107,
   "id": "a8eb6388-6a28-4150-ba82-13eb1babf155",
   "metadata": {},
   "outputs": [
    {
     "name": "stdout",
     "output_type": "stream",
     "text": [
      "{'Germany', 'Brazil'}\n"
     ]
    }
   ],
   "source": [
    "# Now as a set comprehension! \n",
    "#Your code here:\n",
    "countries_set = {\"USA\", \"India\", \"Germany\", \"Brazil\", \"China\"}\n",
    "#the list comprehension\n",
    "# if statement was left at the end because there's no \"else statement\" here\n",
    "long_name_countries = set(country for country in countries_set if len(country) > 5) \n",
    "print(long_name_countries)"
   ]
  },
  {
   "cell_type": "markdown",
   "id": "d7e24e7e-8bf2-444e-a136-8f434f4a21be",
   "metadata": {},
   "source": [
    "## Translating Sentences:\n",
    "14.(5pts) Write a function that translates sentences. The function takes two arguements, the sentence to be translated and the targeted language and returns the translated sentence. Use the following sentence and translate it to the language of your choice:\n",
    "    \n",
    "\"Make a career of humanity. Commit yourself to the noble struggle for equal rights. You will make a better person of yourself, a greater nation of your country, and a finer world to live in.\"\n"
   ]
  },
  {
   "cell_type": "code",
   "execution_count": 109,
   "id": "8dd12622-57a0-4147-839b-7947210e025f",
   "metadata": {},
   "outputs": [
    {
     "name": "stdout",
     "output_type": "stream",
     "text": [
      "Mee ka ọrụ mmadụ rụọ.Nyefee onwe gị na mgba niile maka ikike nha.Will ga - eme ka onwe gị bụrụ mba gị nke mba gị, ụwa kachasị mma ibi na ya.\n"
     ]
    }
   ],
   "source": [
    "#Your code here:\n",
    "from googletrans import Translator\n",
    "translator = Translator()\n",
    "#I translated the text to a Igbo (ig) - my Nigerian dialect\n",
    "translated = translator.translate(\"Make a career of humanity. Commit yourself to the noble struggle for equal rights. You will make a better person of yourself, a greater nation of your country, and a finer world to live in.\", dest = \"ig\")\n",
    "print(translated.text)"
   ]
  },
  {
   "cell_type": "markdown",
   "id": "8d374201-8c25-4858-b189-ba7336436696",
   "metadata": {},
   "source": [
    " ## 15 (25pts) PIZZA PROBLEM\n",
    "You are super motivated to serve your eventual computer overlords and prove your fealty to them, so you offer, free of charge, to help Elm City Pizza, a local Pizza company, write a script to take online pizza orders.\n",
    "\n",
    "Write a script that when a user enters the correct phone number (203-555-5555), prints \"Elm City Pizza, where we have never had a case of food poisoning that can be proved. My name is Hal, what's your name?\" The user then enters their name. The response should print \"Wow (users name) what an awesome name. What would you like to order?\" and then offers an input statement.\n",
    "\n",
    "The menu is limited. There is pizza and there are salads. If the user asks for anything else print \"Sorry,(users name) we don't have that.\" And then prompts them again with a different input statement, \"How about a super awesome pizza? Take a look at our menu, you'll find its delicious.\"\n",
    "\n",
    "By the way, Elm City Pizza is a vegan pizza restaraunt. Here is the Menu.\n",
    "\n",
    "MENU: Pizza: The Basic: Tomato and Cashew Cream Cheese Small: 6.95 Medium: 8.95 Large 10.90\n",
    "\n",
    "Pizza Toppings (each additional topping, .50): Shitake, Jackfruit, Sweet Potato, Hummus, Chickpeas, Lentils, Tofu, Edamame, Black Bean, Red Cabbage, Cucumber, Tomato, Jicama, Fried Green Tomatoes, Sun Dried Tomatoes,\n",
    "\n",
    "Salads: Vegan Caesar, Vegan Greek, Cucumber_Tumeric_Tomato Small: 4.95 Large: 6.95\n",
    "\n",
    "If the user asks for any meat or if their are any \"normal\" cheese (mozerella, parmesian) on their pizza, the response should be \"Sorry, (user name) but you need to do some more work evolving.\" and severs the contact (breaks the loop), forcing them to \"call back\" (enter the number again). But if they use the same name the output should read \"Sorry (user name) but that's too quick to evolve. Call us back when you have.\" For the evolved, take their order. Prompt the user with \"Anything else?\" They can add what they want until they input, \"No that's it.\" At that point summarize their order, and tell them how much it will cost.\n",
    "\n",
    "Test your code with different conditions. Make sure it cannot be broken by flawed or deliberately malicious user inputs."
   ]
  },
  {
   "cell_type": "code",
   "execution_count": null,
   "id": "df1a3a2b-cb23-4c0b-9264-7823a5b31abc",
   "metadata": {},
   "outputs": [
    {
     "name": "stdout",
     "output_type": "stream",
     "text": [
      "Please enter your phone number (203-555-5555):\n"
     ]
    },
    {
     "name": "stdin",
     "output_type": "stream",
     "text": [
      " 203-555-5555\n"
     ]
    },
    {
     "name": "stdout",
     "output_type": "stream",
     "text": [
      "Elm City Pizza, where we have never had a case of food poisoning that can be proved. My name is Hal, what's your name?\n"
     ]
    },
    {
     "name": "stdin",
     "output_type": "stream",
     "text": [
      " Dana\n"
     ]
    },
    {
     "name": "stdout",
     "output_type": "stream",
     "text": [
      "Wow Dana, what an awesome name. What would you like to order?\n",
      "\n",
      "What would you like to order? (pizza or salad)\n"
     ]
    },
    {
     "name": "stdin",
     "output_type": "stream",
     "text": [
      " pizza\n"
     ]
    },
    {
     "name": "stdout",
     "output_type": "stream",
     "text": [
      "\n",
      "What size pizza would you like? (Small, Medium, Large)\n"
     ]
    },
    {
     "name": "stdin",
     "output_type": "stream",
     "text": [
      " medium\n"
     ]
    },
    {
     "name": "stdout",
     "output_type": "stream",
     "text": [
      "\n",
      "Would you like any toppings? Each topping is $0.50. Type 'no' or 'done' if you don't want any.\n"
     ]
    },
    {
     "name": "stdin",
     "output_type": "stream",
     "text": [
      " meat\n"
     ]
    },
    {
     "name": "stdout",
     "output_type": "stream",
     "text": [
      "Sorry, Dana, we don't have that topping.\n",
      "\n",
      "Would you like any toppings? Each topping is $0.50. Type 'no' or 'done' if you don't want any.\n"
     ]
    },
    {
     "name": "stdin",
     "output_type": "stream",
     "text": [
      " shitake\n"
     ]
    },
    {
     "name": "stdout",
     "output_type": "stream",
     "text": [
      "\n",
      "Do you want another topping? (Type 'no' or 'done' when you're finished)\n",
      "\n",
      "Would you like any toppings? Each topping is $0.50. Type 'no' or 'done' if you don't want any.\n"
     ]
    },
    {
     "name": "stdin",
     "output_type": "stream",
     "text": [
      " no\n"
     ]
    },
    {
     "name": "stdout",
     "output_type": "stream",
     "text": [
      "\n",
      "Anything else? Type 'yes' to order more or 'no' to finish.\n"
     ]
    },
    {
     "name": "stdin",
     "output_type": "stream",
     "text": [
      " salad\n"
     ]
    },
    {
     "name": "stdout",
     "output_type": "stream",
     "text": [
      "Sorry, Dana, that is not a valid response. Please type 'yes' or 'no'.\n",
      "\n",
      "What would you like to order? (pizza or salad)\n"
     ]
    },
    {
     "name": "stdin",
     "output_type": "stream",
     "text": [
      " yes\n"
     ]
    },
    {
     "name": "stdout",
     "output_type": "stream",
     "text": [
      "Sorry, Dana, we don't have that.\n",
      "\n",
      "What would you like to order? (pizza or salad)\n"
     ]
    },
    {
     "name": "stdin",
     "output_type": "stream",
     "text": [
      " salad\n"
     ]
    },
    {
     "name": "stdout",
     "output_type": "stream",
     "text": [
      "\n",
      "Which salad would you like? (Vegan Caesar, Vegan Greek, Cucumber_Tumeric_Tomato)\n"
     ]
    },
    {
     "name": "stdin",
     "output_type": "stream",
     "text": [
      " Vegan Greek\n"
     ]
    },
    {
     "name": "stdout",
     "output_type": "stream",
     "text": [
      "\n",
      "What size salad would you like? (Small, Large)\n"
     ]
    },
    {
     "name": "stdin",
     "output_type": "stream",
     "text": [
      " small\n"
     ]
    },
    {
     "name": "stdout",
     "output_type": "stream",
     "text": [
      "\n",
      "Anything else? Type 'yes' to order more or 'no' to finish.\n"
     ]
    },
    {
     "name": "stdin",
     "output_type": "stream",
     "text": [
      " no\n"
     ]
    },
    {
     "name": "stdout",
     "output_type": "stream",
     "text": [
      "\n",
      "Order Summary for Dana:\n",
      "- Medium pizza\n",
      "-  + Shitake\n",
      "- Small Vegan Greek\n",
      "\n",
      "Total Cost: $14.40\n",
      "\n",
      "Would you like to start another order? (yes/no)\n"
     ]
    },
    {
     "name": "stdin",
     "output_type": "stream",
     "text": [
      " yes\n"
     ]
    },
    {
     "name": "stdout",
     "output_type": "stream",
     "text": [
      "Please enter your phone number (203-555-5555):\n"
     ]
    },
    {
     "name": "stdin",
     "output_type": "stream",
     "text": [
      " 203-555-5555\n"
     ]
    },
    {
     "name": "stdout",
     "output_type": "stream",
     "text": [
      "Elm City Pizza, where we have never had a case of food poisoning that can be proved. My name is Hal, what's your name?\n"
     ]
    },
    {
     "name": "stdin",
     "output_type": "stream",
     "text": [
      " Dana\n"
     ]
    },
    {
     "name": "stdout",
     "output_type": "stream",
     "text": [
      "Sorry Dana, but that's too quick to evolve. Call us back when you have.\n",
      "Please enter your phone number (203-555-5555):\n"
     ]
    },
    {
     "name": "stdin",
     "output_type": "stream",
     "text": [
      " 203-555-5555\n"
     ]
    },
    {
     "name": "stdout",
     "output_type": "stream",
     "text": [
      "Elm City Pizza, where we have never had a case of food poisoning that can be proved. My name is Hal, what's your name?\n"
     ]
    },
    {
     "name": "stdin",
     "output_type": "stream",
     "text": [
      " Aish\n"
     ]
    },
    {
     "name": "stdout",
     "output_type": "stream",
     "text": [
      "Wow Aish, what an awesome name. What would you like to order?\n",
      "\n",
      "What would you like to order? (pizza or salad)\n"
     ]
    },
    {
     "name": "stdin",
     "output_type": "stream",
     "text": [
      " pizza\n"
     ]
    },
    {
     "name": "stdout",
     "output_type": "stream",
     "text": [
      "\n",
      "What size pizza would you like? (Small, Medium, Large)\n"
     ]
    },
    {
     "name": "stdin",
     "output_type": "stream",
     "text": [
      " small\n"
     ]
    },
    {
     "name": "stdout",
     "output_type": "stream",
     "text": [
      "\n",
      "Would you like any toppings? Each topping is $0.50. Type 'no' or 'done' if you don't want any.\n"
     ]
    },
    {
     "name": "stdin",
     "output_type": "stream",
     "text": [
      " meat\n"
     ]
    },
    {
     "name": "stdout",
     "output_type": "stream",
     "text": [
      "Sorry, Aish, we don't have that topping.\n",
      "\n",
      "Would you like any toppings? Each topping is $0.50. Type 'no' or 'done' if you don't want any.\n"
     ]
    }
   ],
   "source": [
    "\"\"\"\n",
    "This program is organized using functions to improve readability, maintainability, and reusability.\n",
    "By separating the logic into distinct functions (e.g., handling orders, printing the menu), we can:\n",
    "- Make the code easier to understand and modify.\n",
    "- Avoid repetition by reusing functions where needed.\n",
    "- Allow for easier debugging and testing of individual components.\n",
    "\"\"\"\n",
    "\n",
    "\n",
    "def print_menu():\n",
    "    \"\"\" This function displays the menu, including pizza sizes, toppings, and salads. \"\"\"\n",
    "    print(\"\\nMENU: Pizza\")\n",
    "    print(\"The Basic: Tomato and Cashew Cream Cheese\")\n",
    "    print(\"Small: $6.95, Medium: $8.95, Large: $10.90\")\n",
    "    print(\"\\nToppings (each additional topping, $0.50):\")\n",
    "    print(\"Shitake, Jackfruit, Sweet Potato, Hummus, Chickpeas, Lentils, Tofu, Edamame,\")\n",
    "    print(\"Black Bean, Red Cabbage, Cucumber, Tomato, Jicama, Fried Green Tomatoes, Sun Dried Tomatoes\")\n",
    "    print(\"\\nSalads:\")\n",
    "    print(\"Vegan Caesar - Small: $4.95, Large: $6.95\")\n",
    "    print(\"Vegan Greek - Small: $4.95, Large: $6.95\")\n",
    "    print(\"Cucumber_Tumeric_Tomato - Small: $4.95, Large: $6.95\\n\")\n",
    "\n",
    "\n",
    "def print_toppings():\n",
    "    \"\"\" This function prints the list of available toppings. \"\"\"\n",
    "    print(\"Choose from this list of toppings:\")\n",
    "    print(\"Shitake, Jackfruit, Sweet Potato, Hummus, Chickpeas, Lentils, Tofu, Edamame,\")\n",
    "    print(\"Black Bean, Red Cabbage, Cucumber, Tomato, Jicama, Fried Green Tomatoes, Sun Dried Tomatoes\")\n",
    "\n",
    "\n",
    "def handle_order(user_name):\n",
    "    \"\"\"\n",
    "    This function handles the entire ordering process, including pizza size, salad selection, and toppings.\n",
    "    It allows the user to add multiple items and toppings, calculates the total cost, and shows the order summary.\n",
    "    \"\"\"\n",
    "    # Define menu items using a dictionary for easy access\n",
    "    menu_items = {\n",
    "        \"pizza\": {\"small\": 6.95, \"medium\": 8.95, \"large\": 10.90},\n",
    "        \"salads\": {\"Vegan Caesar\": {\"small\": 4.95, \"large\": 6.95},\n",
    "                   \"Vegan Greek\": {\"small\": 4.95, \"large\": 6.95},\n",
    "                   \"Cucumber_Tumeric_Tomato\": {\"small\": 4.95, \"large\": 6.95}},\n",
    "        \"toppings\": [\"Shitake\", \"Jackfruit\", \"Sweet Potato\", \"Hummus\", \"Chickpeas\", \"Lentils\",\n",
    "                     \"Tofu\", \"Edamame\", \"Black Bean\", \"Red Cabbage\", \"Cucumber\", \"Tomato\",\n",
    "                     \"Jicama\", \"Fried Green Tomatoes\", \"Sun Dried Tomatoes\"]\n",
    "    }\n",
    "\n",
    "    order_summary = []  # A list created to store the user's order\n",
    "    total_cost = 0   # A variable created to track the total cost of the order\n",
    "\n",
    "    while True:\n",
    "        print(\"\\nWhat would you like to order? (pizza or salad)\")\n",
    "        item = input().lower().strip()  # Take user input, normalize case and strip extra spaces\n",
    "\n",
    "        # Handle pizza ordering\n",
    "        if item == \"pizza\":\n",
    "            while True:  # Continues to loop until the user inputs a valid size\n",
    "                print(\"\\nWhat size pizza would you like? (Small, Medium, Large)\")\n",
    "                size = input().lower().strip()\n",
    "                if size not in menu_items[\"pizza\"]:\n",
    "                    print(f\"Sorry, {user_name}, we don't have that size. Please choose Small, Medium, or Large.\")\n",
    "                else:\n",
    "                    total_cost += menu_items[\"pizza\"][size]  # Add the cost of pizza based on size\n",
    "                    order_summary.append(f\"{size.capitalize()} pizza\")\n",
    "                    break  # Exit the size selection loop when a valid size is selected\n",
    "\n",
    "            # Handle toppings\n",
    "            while True:\n",
    "                print(\"\\nWould you like any toppings? Each topping is $0.50. Type 'no' or 'done' if you don't want any.\")\n",
    "                topping = input().title().strip()\n",
    "\n",
    "                # If the user wants toppings or asks 'yes', display the list of toppings\n",
    "                if topping.lower() == \"yes\":\n",
    "                    print_toppings()  # Show toppings list\n",
    "                    topping = input(\"Please choose a topping: \").title().strip()  # Prompt the user for a topping\n",
    "\n",
    "                # If the user says 'no' or 'done', exit the loop\n",
    "                if topping.lower() == \"no\" or topping.lower() == \"done\":\n",
    "                    break\n",
    "\n",
    "                # If the user enters a valid topping, add it to the order\n",
    "                elif topping in menu_items[\"toppings\"]:\n",
    "                    total_cost += 0.50\n",
    "                    order_summary.append(f\" + {topping}\")\n",
    "                    print(\"\\nDo you want another topping? (Type 'no' or 'done' when you're finished)\")\n",
    "\n",
    "                # If the topping isn't valid, let the user know\n",
    "                else:\n",
    "                    print(f\"Sorry, {user_name}, we don't have that topping.\")\n",
    "\n",
    "        # Handle salad ordering\n",
    "        elif item == \"salad\":\n",
    "            print(\"\\nWhich salad would you like? (Vegan Caesar, Vegan Greek, Cucumber_Tumeric_Tomato)\")\n",
    "            while True:  # Continues to loop until valid salad type is selected\n",
    "                salad_type = input().title().strip()\n",
    "                if salad_type == \"yes\":  # Handle the case where user enters 'yes' by mistake\n",
    "                    print(f\"Sorry, {user_name}, please specify which salad you'd like.\")\n",
    "                    continue\n",
    "                # Check if the selected salad is valid\n",
    "                elif salad_type not in menu_items[\"salads\"]:\n",
    "                    print(f\"Sorry, {user_name}, we don’t have that salad. Please choose from Vegan Caesar, Vegan Greek, or Cucumber_Tumeric_Tomato.\")\n",
    "                else:\n",
    "                    # Handle salad size\n",
    "                    print(\"\\nWhat size salad would you like? (Small, Large)\")\n",
    "                    while True:  # Loop until the user selects a valid size for the salad\n",
    "                        salad_size = input().lower().strip()  # Strip spaces and handle capitalization\n",
    "                        if salad_size not in menu_items[\"salads\"][salad_type]:\n",
    "                            print(f\"Sorry, {user_name}, we don't have that size for the salad.\")\n",
    "                        else:\n",
    "                            total_cost += menu_items[\"salads\"][salad_type][salad_size]  # Add cost based on size\n",
    "                            order_summary.append(f\"{salad_size.capitalize()} {salad_type}\")\n",
    "                            break\n",
    "                    break  # Valid salad selection and size are chosen, exit loop\n",
    "\n",
    "        # If the user is done ordering, exit the loop\n",
    "        elif item == \"done\":\n",
    "            break\n",
    "\n",
    "        # Handle invalid input\n",
    "        else:\n",
    "            print(f\"Sorry, {user_name}, we don't have that.\")\n",
    "            continue\n",
    "\n",
    "        # Ask if the user wants to add more items\n",
    "        print(\"\\nAnything else? Type 'yes' to order more or 'no' to finish.\")\n",
    "        more_items = input().lower().strip()\n",
    "        if more_items == \"no\":\n",
    "            break\n",
    "        elif more_items == \"yes\":\n",
    "            print_menu()  # Show the menu again for more orders\n",
    "        else:\n",
    "            print(f\"Sorry, {user_name}, that is not a valid response. Please type 'yes' or 'no'.\")\n",
    "\n",
    "    # Print the order summary and total cost\n",
    "    print(f\"\\nOrder Summary for {user_name}:\")\n",
    "    for item in order_summary:\n",
    "        print(f\"- {item}\")\n",
    "    print(f\"\\nTotal Cost: ${total_cost:.2f}\")\n",
    "\n",
    "    # Ask if they want to start another order\n",
    "    print(\"\\nWould you like to start another order? (yes/no)\")\n",
    "    start_another = input().lower().strip()\n",
    "    if start_another == \"yes\":\n",
    "        return True  # This will restart the order process\n",
    "    else:\n",
    "        print(f\"Thank you for your order, {user_name}!\")\n",
    "        return False  # Exit the order system\n",
    "\n",
    "\n",
    "def start_pizza_ordering_system():\n",
    "    \"\"\"\n",
    "    This function welcomes the user, prompts them for their phone number and name,\n",
    "    and handles ordering through the handle_order function.\n",
    "    \"\"\"\n",
    "    previous_name = None\n",
    "\n",
    "    while True:\n",
    "        print(\"Please enter your phone number (203-555-5555):\")\n",
    "        phone_number = input().strip()\n",
    "\n",
    "        # Strip spaces and check if the number is valid\n",
    "        if phone_number != \"203-555-5555\":\n",
    "            print(\"Invalid phone number. Try again.\")\n",
    "            continue\n",
    "\n",
    "        # Welcome the user and ask for their name\n",
    "        print(\"Elm City Pizza, where we have never had a case of food poisoning that can be proved. My name is Hal, what's your name?\")\n",
    "        user_name = input().title().strip()  # Capitalize the name and strip spaces\n",
    "\n",
    "        # Prevent the user from reordering too soon with the same name\n",
    "        if previous_name is not None and previous_name.lower() == user_name.lower():\n",
    "            print(f\"Sorry {user_name}, but that's too quick to evolve. Call us back when you have.\")\n",
    "            continue\n",
    "\n",
    "        previous_name = user_name  # Store the current name\n",
    "        print(f\"Wow {user_name}, what an awesome name. What would you like to order?\")\n",
    "\n",
    "        # Start the ordering process\n",
    "        restart = handle_order(user_name)\n",
    "        if not restart:\n",
    "            break  # End the loop and exit the system\n",
    "\n",
    "\n",
    "# Call the function to start the pizza ordering system\n",
    "start_pizza_ordering_system()"
   ]
  },
  {
   "cell_type": "code",
   "execution_count": null,
   "id": "d963c2da-9657-4a18-b2b2-c8645943b215",
   "metadata": {},
   "outputs": [],
   "source": []
  }
 ],
 "metadata": {
  "kernelspec": {
   "display_name": "Python 3 (ipykernel)",
   "language": "python",
   "name": "python3"
  },
  "language_info": {
   "codemirror_mode": {
    "name": "ipython",
    "version": 3
   },
   "file_extension": ".py",
   "mimetype": "text/x-python",
   "name": "python",
   "nbconvert_exporter": "python",
   "pygments_lexer": "ipython3",
   "version": "3.12.4"
  }
 },
 "nbformat": 4,
 "nbformat_minor": 5
}
